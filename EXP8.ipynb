{
  "nbformat": 4,
  "nbformat_minor": 0,
  "metadata": {
    "colab": {
      "provenance": [],
      "authorship_tag": "ABX9TyNYxa5nxmu7niI0vxomkh36",
      "include_colab_link": true
    },
    "kernelspec": {
      "name": "python3",
      "display_name": "Python 3"
    },
    "language_info": {
      "name": "python"
    }
  },
  "cells": [
    {
      "cell_type": "markdown",
      "metadata": {
        "id": "view-in-github",
        "colab_type": "text"
      },
      "source": [
        "<a href=\"https://colab.research.google.com/github/MithunChevakula/Data-Mining/blob/main/EXP8.ipynb\" target=\"_parent\"><img src=\"https://colab.research.google.com/assets/colab-badge.svg\" alt=\"Open In Colab\"/></a>"
      ]
    },
    {
      "cell_type": "code",
      "source": [
        "import nltk\n",
        "nltk.download('punkt')"
      ],
      "metadata": {
        "colab": {
          "base_uri": "https://localhost:8080/"
        },
        "id": "EfYDD0tyldO1",
        "outputId": "521d5ed2-c698-453b-afbd-f648e890ca54"
      },
      "execution_count": 18,
      "outputs": [
        {
          "output_type": "stream",
          "name": "stderr",
          "text": [
            "[nltk_data] Downloading package punkt to /root/nltk_data...\n",
            "[nltk_data]   Unzipping tokenizers/punkt.zip.\n"
          ]
        },
        {
          "output_type": "execute_result",
          "data": {
            "text/plain": [
              "True"
            ]
          },
          "metadata": {},
          "execution_count": 18
        }
      ]
    },
    {
      "cell_type": "code",
      "source": [
        "from textblob.classifiers import NaiveBayesClassifier\n",
        "from textblob import TextBlob\n",
        "train = [\n",
        " ('I love this sandwich.', 'pos'),\n",
        " ('This is an amazing place!', 'pos'),\n",
        " ('I feel very good about these beers.', 'pos'),\n",
        " ('This is my best work.', 'pos'),\n",
        " (\"What an awesome view\", 'pos'),\n",
        " ('I do not like this restaurant', 'neg'),\n",
        " ('I am tired of this stuff.', 'neg'),\n",
        " (\"I can't deal with this\", 'neg'),\n",
        " ('He is my sworn enemy!', 'neg'),\n",
        " ('My boss is horrible.', 'neg')\n",
        "]\n",
        "test = [\n",
        " ('The beer was good.', 'pos'),\n",
        " ('I do not enjoy my job', 'neg'),\n",
        " (\"I ain't feeling dandy today.\", 'neg'),\n",
        " (\"I feel amazing!\", 'pos'),\n",
        " ('Gary is a friend of mine.', 'pos'),\n",
        " (\"I can't believe I'm doing this.\", 'neg')\n",
        "]\n",
        "cl = NaiveBayesClassifier(train)\n",
        "# Classify some text\n",
        "print(cl.classify(\"Their burgers are amazing.\")) # \"pos\"\n",
        "print(cl.classify(\"I don't like their pizza.\")) # \"neg\"\n",
        "# Classify a TextBlob\n",
        "blob = TextBlob(\"The beer was amazing. But the hangover was horrible. \"\n",
        " \"My boss was not pleased.\", classifier=cl)\n",
        "print(blob)\n",
        "print(blob.classify())\n",
        "for sentence in blob.sentences:\n",
        " print(sentence)\n",
        " print(sentence.classify())\n",
        "# Compute accuracy\n",
        "print(\"Accuracy: {0}\".format(cl.accuracy(test)))\n",
        "# Show 5 most informative features\n",
        "cl.show_informative_features(5)\n"
      ],
      "metadata": {
        "colab": {
          "base_uri": "https://localhost:8080/"
        },
        "id": "H9qAq5o-jWws",
        "outputId": "45defa88-a4cc-4474-8bef-e00a2fcf9ed2"
      },
      "execution_count": 19,
      "outputs": [
        {
          "output_type": "stream",
          "name": "stdout",
          "text": [
            "pos\n",
            "neg\n",
            "The beer was amazing. But the hangover was horrible. My boss was not pleased.\n",
            "neg\n",
            "The beer was amazing.\n",
            "pos\n",
            "But the hangover was horrible.\n",
            "neg\n",
            "My boss was not pleased.\n",
            "neg\n",
            "Accuracy: 0.8333333333333334\n",
            "Most Informative Features\n",
            "          contains(this) = True              neg : pos    =      2.3 : 1.0\n",
            "          contains(this) = False             pos : neg    =      1.8 : 1.0\n",
            "          contains(This) = False             neg : pos    =      1.6 : 1.0\n",
            "            contains(an) = False             neg : pos    =      1.6 : 1.0\n",
            "             contains(I) = False             pos : neg    =      1.4 : 1.0\n"
          ]
        }
      ]
    }
  ]
}